{
 "cells": [
  {
   "cell_type": "code",
   "execution_count": 10,
   "metadata": {},
   "outputs": [],
   "source": [
    "def load_keywords(seed_word_file):\n",
    "    seed_words = []\n",
    "    with open(seed_word_file, 'r') as fin:\n",
    "        for line in fin:\n",
    "            seed_words.append(line.strip())\n",
    "    return seed_words\n",
    "\n",
    "def load_embeddings(embedding_file):\n",
    "    if embedding_file is None:\n",
    "        return {}\n",
    "    word_to_vec = {}\n",
    "    with open(embedding_file, 'r') as fin:\n",
    "        header = fin.readline()\n",
    "        for line in fin:\n",
    "            items = line.strip().split()\n",
    "            word = items[0]\n",
    "            vec = [float(v) for v in items[1:]]\n",
    "            word_to_vec[word] = vec\n",
    "    return word_to_vec"
   ]
  },
  {
   "cell_type": "code",
   "execution_count": 4,
   "metadata": {},
   "outputs": [],
   "source": [
    "seed_keyword_file = '/home/namch_hust1_gmail_com/taxogen/data/dblp/input/keywords.txt'\n",
    "embedding_file = '/home/namch_hust1_gmail_com/taxogen/data/dblp/input/embeddings.txt'"
   ]
  },
  {
   "cell_type": "code",
   "execution_count": 5,
   "metadata": {},
   "outputs": [],
   "source": [
    "seed_keywords = load_keywords(seed_keyword_file)"
   ]
  },
  {
   "cell_type": "code",
   "execution_count": 7,
   "metadata": {},
   "outputs": [
    {
     "data": {
      "text/plain": [
       "13855"
      ]
     },
     "execution_count": 7,
     "metadata": {},
     "output_type": "execute_result"
    }
   ],
   "source": [
    "len(seed_keywords)"
   ]
  },
  {
   "cell_type": "code",
   "execution_count": 12,
   "metadata": {},
   "outputs": [],
   "source": [
    "word_to_vec = load_embeddings(embedding_file)"
   ]
  },
  {
   "cell_type": "code",
   "execution_count": 13,
   "metadata": {},
   "outputs": [
    {
     "data": {
      "text/plain": [
       "124890"
      ]
     },
     "execution_count": 13,
     "metadata": {},
     "output_type": "execute_result"
    }
   ],
   "source": [
    "len(word_to_vec)"
   ]
  },
  {
   "cell_type": "code",
   "execution_count": null,
   "metadata": {},
   "outputs": [],
   "source": []
  },
  {
   "cell_type": "code",
   "execution_count": null,
   "metadata": {},
   "outputs": [],
   "source": []
  }
 ],
 "metadata": {
  "kernelspec": {
   "display_name": "Python 3",
   "language": "python",
   "name": "python3"
  },
  "language_info": {
   "codemirror_mode": {
    "name": "ipython",
    "version": 3
   },
   "file_extension": ".py",
   "mimetype": "text/x-python",
   "name": "python",
   "nbconvert_exporter": "python",
   "pygments_lexer": "ipython3",
   "version": "3.8.10"
  },
  "orig_nbformat": 4
 },
 "nbformat": 4,
 "nbformat_minor": 2
}
